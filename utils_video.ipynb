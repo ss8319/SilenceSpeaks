{
  "cells": [
    {
      "cell_type": "markdown",
      "metadata": {
        "hide_input": true,
        "id": "TsDJ-pCV48zN"
      },
      "source": [
        "<img src=\"https://github.com/TUIlmenauAMS/Videocoding/blob/main/seminars/images/vc_logo.png?25&raw=1\" alt=\"vc_logo\" width=\"400\">"
      ]
    },
    {
      "cell_type": "markdown",
      "source": [
        "# Seminars 01 and 02: OpenCV Video I/O"
      ],
      "metadata": {
        "id": "1fO4JW5McLkm"
      }
    },
    {
      "cell_type": "code",
      "source": [
        "#@title\n",
        "%%html\n",
        "<iframe src=\"https://docs.opencv.org/4.x/d0/de3/tutorial_py_intro.html\" height=\"400\" width=\"900\" title=\"opencv\"></iframe>"
      ],
      "metadata": {
        "colab": {
          "base_uri": "https://localhost:8080/",
          "height": 425
        },
        "cellView": "form",
        "id": "iS9dXbUccKld",
        "outputId": "e7edda28-c48c-4550-8e4e-0ec5c9c9769a"
      },
      "execution_count": null,
      "outputs": [
        {
          "output_type": "display_data",
          "data": {
            "text/plain": [
              "<IPython.core.display.HTML object>"
            ],
            "text/html": [
              "<iframe src=\"https://docs.opencv.org/4.x/d0/de3/tutorial_py_intro.html\" height=\"400\" width=\"900\" title=\"opencv\"></iframe>"
            ]
          },
          "metadata": {}
        }
      ]
    },
    {
      "cell_type": "code",
      "source": [
        "#@title\n",
        "%%html\n",
        "<iframe src=\"https://docs.opencv.org/4.x/dd/d43/tutorial_py_video_display.html\" height=\"400\" width=\"900\" title=\"opencv\"></iframe>"
      ],
      "metadata": {
        "colab": {
          "base_uri": "https://localhost:8080/",
          "height": 425
        },
        "cellView": "form",
        "id": "gP54BQwPch7N",
        "outputId": "709aff28-d1ab-4f38-c3cc-4c72405e1678"
      },
      "execution_count": null,
      "outputs": [
        {
          "output_type": "display_data",
          "data": {
            "text/plain": [
              "<IPython.core.display.HTML object>"
            ],
            "text/html": [
              "<iframe src=\"https://docs.opencv.org/4.x/dd/d43/tutorial_py_video_display.html\" height=\"400\" width=\"900\" title=\"opencv\"></iframe>"
            ]
          },
          "metadata": {}
        }
      ]
    },
    {
      "cell_type": "markdown",
      "source": [
        "## Videocapture"
      ],
      "metadata": {
        "id": "ae0HSXkRcs0Q"
      }
    },
    {
      "cell_type": "code",
      "source": [
        "!wget https://github.com/TUIlmenauAMS/Videocoding/raw/main/seminars/videos/videorec.mp4"
      ],
      "metadata": {
        "colab": {
          "base_uri": "https://localhost:8080/"
        },
        "id": "lNU7ZW3TeQUa",
        "outputId": "443a95dd-23fa-45f7-9029-8ed6b07f94ae"
      },
      "execution_count": null,
      "outputs": [
        {
          "output_type": "stream",
          "name": "stdout",
          "text": [
            "--2022-04-20 19:21:49--  https://github.com/TUIlmenauAMS/Videocoding/raw/main/seminars/videos/videorec.mp4\n",
            "Resolving github.com (github.com)... 140.82.112.4\n",
            "Connecting to github.com (github.com)|140.82.112.4|:443... connected.\n",
            "HTTP request sent, awaiting response... 302 Found\n",
            "Location: https://raw.githubusercontent.com/TUIlmenauAMS/Videocoding/main/seminars/videos/videorec.mp4 [following]\n",
            "--2022-04-20 19:21:49--  https://raw.githubusercontent.com/TUIlmenauAMS/Videocoding/main/seminars/videos/videorec.mp4\n",
            "Resolving raw.githubusercontent.com (raw.githubusercontent.com)... 185.199.108.133, 185.199.109.133, 185.199.110.133, ...\n",
            "Connecting to raw.githubusercontent.com (raw.githubusercontent.com)|185.199.108.133|:443... connected.\n",
            "HTTP request sent, awaiting response... 200 OK\n",
            "Length: 298657 (292K) [application/octet-stream]\n",
            "Saving to: ‘videorec.mp4’\n",
            "\n",
            "videorec.mp4        100%[===================>] 291.66K  --.-KB/s    in 0.03s   \n",
            "\n",
            "2022-04-20 19:21:49 (9.29 MB/s) - ‘videorec.mp4’ saved [298657/298657]\n",
            "\n"
          ]
        }
      ]
    },
    {
      "cell_type": "markdown",
      "source": [
        "### Display Video in Google Colab"
      ],
      "metadata": {
        "id": "1a47VySrirdK"
      }
    },
    {
      "cell_type": "code",
      "source": [
        "import imageio\n",
        "import matplotlib.pyplot as plt\n",
        "import matplotlib.animation as animation\n",
        "from skimage.transform import resize\n",
        "from IPython.display import HTML\n",
        "\n",
        "def display_video(video):\n",
        "    fig = plt.figure(figsize=(3,3))  #Display size specification\n",
        "\n",
        "    mov = []\n",
        "    for i in range(len(video)):  #Append videos one by one to mov\n",
        "        img = plt.imshow(video[i], animated=True)\n",
        "        plt.axis('off')\n",
        "        mov.append([img])\n",
        "\n",
        "    #Animation creation\n",
        "    anime = animation.ArtistAnimation(fig, mov, interval=50, repeat_delay=1000)\n",
        "\n",
        "    plt.close()\n",
        "    return anime\n"
      ],
      "metadata": {
        "id": "DFVXdLgseXI1"
      },
      "execution_count": 4,
      "outputs": []
    },
    {
      "cell_type": "code",
      "source": [
        "video = imageio.mimread('videorec.mp4')  #Loading video\n",
        "#video = [resize(frame, (256, 256))[..., :3] for frame in video]    #Size adjustment (if necessary)\n",
        "HTML(display_video(video).to_html5_video())  #Inline video display in HTML5"
      ],
      "metadata": {
        "colab": {
          "base_uri": "https://localhost:8080/",
          "height": 237
        },
        "id": "pRXKyld_iumT",
        "outputId": "d924ee3e-c612-495b-dd7a-ec2175365043"
      },
      "execution_count": null,
      "outputs": [
        {
          "output_type": "execute_result",
          "data": {
            "text/plain": [
              "<IPython.core.display.HTML object>"
            ],
            "text/html": [
              "<video width=\"216\" height=\"216\" controls autoplay loop>\n",
              "  <source type=\"video/mp4\" src=\"data:video/mp4;base64,AAAAHGZ0eXBNNFYgAAACAGlzb21pc28yYXZjMQAAAAhmcmVlAAA5Rm1kYXQAAAKuBgX//6rcRem9\n",
              "5tlIt5Ys2CDZI+7veDI2NCAtIGNvcmUgMTUyIHIyODU0IGU5YTU5MDMgLSBILjI2NC9NUEVHLTQg\n",
              "QVZDIGNvZGVjIC0gQ29weWxlZnQgMjAwMy0yMDE3IC0gaHR0cDovL3d3dy52aWRlb2xhbi5vcmcv\n",
              "eDI2NC5odG1sIC0gb3B0aW9uczogY2FiYWM9MSByZWY9MyBkZWJsb2NrPTE6MDowIGFuYWx5c2U9\n",
              "MHgzOjB4MTEzIG1lPWhleCBzdWJtZT03IHBzeT0xIHBzeV9yZD0xLjAwOjAuMDAgbWl4ZWRfcmVm\n",
              "PTEgbWVfcmFuZ2U9MTYgY2hyb21hX21lPTEgdHJlbGxpcz0xIDh4OGRjdD0xIGNxbT0wIGRlYWR6\n",
              "b25lPTIxLDExIGZhc3RfcHNraXA9MSBjaHJvbWFfcXBfb2Zmc2V0PS0yIHRocmVhZHM9MyBsb29r\n",
              "YWhlYWRfdGhyZWFkcz0xIHNsaWNlZF90aHJlYWRzPTAgbnI9MCBkZWNpbWF0ZT0xIGludGVybGFj\n",
              "ZWQ9MCBibHVyYXlfY29tcGF0PTAgY29uc3RyYWluZWRfaW50cmE9MCBiZnJhbWVzPTMgYl9weXJh\n",
              "bWlkPTIgYl9hZGFwdD0xIGJfYmlhcz0wIGRpcmVjdD0xIHdlaWdodGI9MSBvcGVuX2dvcD0wIHdl\n",
              "aWdodHA9MiBrZXlpbnQ9MjUwIGtleWludF9taW49MjAgc2NlbmVjdXQ9NDAgaW50cmFfcmVmcmVz\n",
              "aD0wIHJjX2xvb2thaGVhZD00MCByYz1jcmYgbWJ0cmVlPTEgY3JmPTIzLjAgcWNvbXA9MC42MCBx\n",
              "cG1pbj0wIHFwbWF4PTY5IHFwc3RlcD00IGlwX3JhdGlvPTEuNDAgYXE9MToxLjAwAIAAAAc9ZYiE\n",
              "AD///vdonwKbWkN6gOSVxSXbT4H/q2dwfJAGdmr2Q4tOpEIMHUT+EcOPAT9jGlHjaQunPqbSlqAe\n",
              "kyhTDfpcxf7AWAxGnVSY3mRsJDrBJ/ITjJ/AkDgDV9LMigACLazFrOEbZDF59ySu5gDl1+9aeExV\n",
              "BUddlra6p9GaqWzD2Qh+DMu/h5iCnF6P5Qd2EjhvL6HX7YTZX9kROxCAj7ps+zj+YcImpG8M7URn\n",
              "6u/rvkFya/3nrgoC78EOwB11xLlLgWXpaIrjSwPGpKJzxxzhXS+j0HiqzGa/FAN0M1WbCqqBoqa/\n",
              "HnFhYcsrb89U2SdiNof47zWBaaN2oXDNJxN4l1G55gMNYrOP8PtA4oQy2F4I2TwdX1P/+g6Zsoqw\n",
              "Kwi/Yz2QiLy/ljs1fRRJZZqdfDUMpkvNsJhzaKmyjUcW9lOM5EJZ8Rb80eGQeqFEntO4CkSeNnbG\n",
              "nEHbg09LirDn5t0ZQZZ32lSxE+1MpkcnVAf4IpPMH6EZ0IM2o2sDXcxY3O+eHa1wir0hQM1BfGS4\n",
              "jmQSA1RdBlzKDd+WxBagKw0KWYQoUHgYV6grT86yZLw9q6RmeA3dZeyBjqGFzYSGdwWqCMvGRLbP\n",
              "duak/ujWGXXCFuXLUFOwjxBB3UTUEewBaeNWFBK3i7UbtcGwjxXYwjlF+bD01brfCmxfkEi8wmKl\n",
              "y61etKUd3bfNrEBZY8drQidkeuzlGs9bae66id5yDWeSIgXZOOd1uuRc3BUMl7i8/L2nK+Y9DDov\n",
              "a4TJ6pXPEDSZRCRZRYEsQYRM2LHzDoHtLvUFcZiK58cy2UxIC15WPeyLg83efRZR5xP1XgG5BhEX\n",
              "mDpurBnr9uXfRtLHXjnyrAIaRqw7flnBOOZ2TX6hTLeqBIzEyy2WKAPyBbUluu5iuWLPsbGPf3rd\n",
              "T3pn8LQ3U82uYULNBfRG3gpR6VyJM33x2m+SwjQ+sABdPXPvAxRiJSdLQB0jJsH+69+HpTT4nAlR\n",
              "7+zrRqMlnp+e2rSLRGs7v9iSQfXS0URkePufmO+6hu0J7PxG3lHuojwlzTJiM0KCqNq17Pd/UwvQ\n",
              "KYLWBzfHeNmWor1NgoZnA6dC+tTFfEcLwg9B3J4/CYP/j6I6qcFhqNxrT4U07GFZklfWaMOZcxh6\n",
              "5yd1wma3Zmneh01lkuJKwklQySJZ2XazOfzHhrKJvG1sRdN0F5j97CpT3zCD18DVxTuUhgTUnIlz\n",
              "itlfMBu2JdPC5QikzEMrG3Z2veNz1N/0cMHUeln4bcNVvZJRu8F58TF/2FMGSOpNNWIyuewcuHiV\n",
              "x4dfAWJ6nSjokAMOEXBMTjkS8v4kh6gmiTZJbP4z/kMXLN9GFx5LX2NGhrcIMwm2deN1ZPRqPEBa\n",
              "Job6UEyXu1XmqtV8KvVKAQp+F/en4Kx+61OUqQFV2GUl89HfsCXntQA7O9znHJfPCRAZ2Dt2r8lM\n",
              "0yHkFpivEV9Ws6gcRQuasUIAx0GmdFw4g2FkgpFdpm9yLVua4CCRH1lE/vM0CACFqYx1NjKRubEC\n",
              "EtSRbjqGGu7gHFi5efHLj5hkP3w/hk4dPez6Re/fk1g+nyrsgfFiNh78nOok1XLMJCEDBvUZqt9N\n",
              "Ar1vFq40SzdRMCWoqRQwt6T5SPlz6omqQ1dP4KhnYL6a+Lm9S9s9xeECO8LtatKnyEIDw1EF5vIi\n",
              "URwj0tbd/e+1VuquZfGrsgLuDDhC8fvzocLAPobjgMltwiu9a+SGMJSimcgcpm0DMtQN532GvLRN\n",
              "Tp51OqQWVC7KrrpfwClTwXHiWLxj/0AtO2d55G7LeMebteR3EWW9/e//ez8KcYeuUeuu4ir3Lf3Y\n",
              "ixov5MaT+DqcFcFOor6N8Quo+ABr4KSeddDm83YfN+H2M57f/+Jtk2hOqYsifQPtT4BIVUxcYUvP\n",
              "CYqq2GdmIEo+OYccjGq2kZfIpc/iT2RwIRXetngw4g/ATqTfazf7L9HHoS5yfNCwaQdQ5k4LLjb6\n",
              "uUui1K3pTqhXgbNcQav0RCIEfme4WzBaha3gjlirt1kZMsPOfwlM6ZIUbXK+QD1lkkkaLJGWgytH\n",
              "37HxrP8/KB7hSZz6nkrG+qbfG6VyqcT0fRZ3ufgC5t8ObX73vTtBKQdHqNk9ZzMMQ7Vm1okENqhl\n",
              "bdAjCB58yJjIum/4jyKJpPODcJPwj7fAjg8sXWkprZjB/At1LxExuYseMqTeqTOSlNrR0zxVpbxH\n",
              "koSKfUBfi6NU61+AN5iMBCqBspGtGGYfGOer4TIwmGzGH0mjSf4tcFLpAXBMiZR+xBWfZ3XKAgCw\n",
              "Zthw3LkpFHsYnKXB6b+CnN1LeqyYufTEaNnrigPISjX13vW/9aYQVlUwTLfIx1Q6P+jlJchicDzL\n",
              "aPhjr9KSCeuWfwC5OCVfY8yZFE67QIkEn5UYD0x50YIXyHiV4UwDqbcc6tkuLD2wxXIBfREB1YYV\n",
              "zBAR9qO130oiXUIBAoXF/V3KKUoAAAMAZEEAAAYNQZokY5oCOB3B4EAfCEP/mENf/4GFscEbG2If\n",
              "BS6VqHvWgGeHqU8fNFbluf6O8NadNapybzANWCKsHGznnqG+sO0h/GJdD4L2ZXvkqizjPv+KzkwZ\n",
              "CgnBMNKhTsWzroEEW9KeP/Qm7htrq9G89ATgsOcQo4cp+7wxUxdwN+Xxo5AOxzuos/DenatdKXm+\n",
              "irbtAcvuPvjwuSHIC26xFS18y5nxW020U+oaMHMku3gwRqs1tc48rZ3vfyZn4ard7ecFc+rAelmn\n",
              "AzlM92kuxwEX7wDuGTFDBjKYLWUaqck/4lhAzOI8QhG+uGs6jooVQvA2kOY7/IUdWwJrdTLzJkiQ\n",
              "aGiBUHDSECjNUf7sDgrTM6LZ5pxWC4ObGwKQ9TG1f0/jIX88hWMvoB65MaCEofSIS1ssK2E+4JqI\n",
              "wmY1gGu+E0WyQT80j24tEdDSHP7CoGaEGoUK2+sZGMReAPL222xw7KeJFVeztMAx/9LMGv/Ec5D1\n",
              "b1vbO1Fzm5umFYNxi8XkwvqSF5vDdoH6gmjj+e+UoE12g1K30fZOKgvPaaBszSuKgOw+zfIdCSfo\n",
              "CDnup18HXo+LLrQHPNYAf8wkss4Py3Okj195ig/Ps3cOrA+WTtfLVKxKqOW8PO9kQsoLSie0pAZT\n",
              "HZNw8v8JseZqJ20hjPuWyWQwYgh/Q6gX4P3Lzw3GEcx51I9arvaPorjX6YcOvkz3AcWoBTcmHaRY\n",
              "P2DwvUUtpN3K0GgjHWYh/+ZJDvkIoLn8RHlITtYhiu5ym4HQJ2T+AX1XFC2r2asEB4gM7EENNkKB\n",
              "adwKhCf0mhOIAnwbpCVenK7vJZK0gBkhpKy3+b+coNcyFKpacdXpF+9m7OT0ZnHI3l8N0QdWzPS+\n",
              "5dxC/X+XIX8pR649+rAyh3XsvvuWj9XlCBqa4ZP84khRzVJsRhQuLR1lV7pUhXGXpR0SG+SpgqIH\n",
              "7yY6atAY+DcKQz6wlWIiGc60VEK3QvhNfMPE6Gk3VRcZWFGSlSlqVOkbfrLycgRP88phGck7Sfrs\n",
              "gf9jIYxp3j54BkTe7bPemMeDOHYKNvbKrCsCLnhjdBLt1psXI7C4LIP2VdTikoLZjlUuqOmYprR5\n",
              "6PPwV7dUssP69exSS501jxZwThBa0MZ20TGy/bJi1EXrUOcAApqV/uUrtj7hrvy06m2jwJrNWu2M\n",
              "cpXsglx9Nx3yakrb0tnTUFbq1Sjlx5JUXYrI6+CWNGSJj9n94mKfMMSJ31AKCcfvUw8aMJCuX4s/\n",
              "7FAiyrVnN8KGCWTHDp2mAxVVHyVtpRU2GDxQEr9smYvtJxI84uZ1fkNoyCTRXDxaMGdVNYHhYKBo\n",
              "7EUEaI975dIDqroNDwI6Nnulkblv4iIvuG6zjY24bQb18NwAfIe2l7r1q877WQarIwnWyZO4AAVk\n",
              "XM1BTtlvKJnMZpQxfJv8GHj2avWZK2ESYqNXsuQT58vQlOfUzjl5FqPnG7dQavwDzWCI7JqkROCI\n",
              "R/I2I0TjcG7dLpzFi6wlQ91sCgSfhRZwu1xhrqHJRaDXKl8FDqquOuAhEpO9ulqVE1jhdQWZYJvC\n",
              "r4dFC/0f5vIrQ/7Lf/FNdP00Lxzrmpnfdwspo6+s8LaZOPOgQrF3+JsxuJtJ7+P/zqBszdyidJSw\n",
              "wJZBajm0Id7CEGgN69RLz51Bnrzf5N4F3Ruyj4NHzMoZRbB5biWOO+oZO6LkRBPNH8/n5NIT24g0\n",
              "QwBkRQ2EBiCc4Fx3mdfzPH65F9H4Ld3nNsrRTdgqoevY2qxY5lcSb12aFVqYovoGuU5nw+2DPBZG\n",
              "N/DFQ1//mI5fCkbVjycNe1ztK4dJgPWY9AQQNtf1yM/yBm66p0yXD9Icl8py+vhfVqb1aKAYbVFZ\n",
              "oVI3GsATfzZ3edZKDh1mMYmTK0L5nLpW5OfTYbuqeguLOpVSNoKwcAT+hdWrJWh9az0zv+MX1ygI\n",
              "wFiw/lOP4Lymtw1LNqOsK2qrXjbXKuROnCUR/IRlswH7oxxKeQ5VBQjCdqIY9UupaE0I+5rzzVxA\n",
              "O8Q+Bdwj1EDQFOXnIFfTnUAAAE4v20aWTbDe3HBi4ZVAAAADAABCQAAAAFNBnkJ4hn8CO+A+pzek\n",
              "AJIT5wpv8YrwwkvUQOVMgzErYk6wetp5O1wQSDTDAJg/WVRbF/ONmd/4U0XlHeEipZAe+krfnzln\n",
              "k+CfWCkhIj/DKJwHvQAAAEUBnmF0Qr8Dz5sVxwODfv7tEALCySRMFVc0WqyRKbc0ygx1TrzXwYzc\n",
              "+cZYKVthvvfxgo4/NhJZ4b9ob/A82KgbZ6+/dEsAAAAnAZ5jakK/Ayk6bAUuXfgBuBjH+CTXBtfJ\n",
              "H7OFeCyO4tJC8ItnmCTtAAABnEGaaEmoQWiZTAh///6plhLxNUAHFtw+WVW9wX+sv/QqHQ/eyW8G\n",
              "UBVyR954tu1wyFOEi+nlm5T6JMPtK6Dfzh8C73bmA7f+wn10EMpfyGQGFvbVNKkEvlt9+lnIfA6Y\n",
              "Ij+QsYCbHoXYA5qlAuOVKaAjv/oGfZvazLag1in9YnCKvZTgoGBMwNgi4NWY9mTzpwGKgsW+yJBg\n",
              "X4gxtjH6E8T2SIROeuqv37oTJ6q8wUv6yDIzhSSisoee1BS/Dab9JS6zWlONKYZ77uKPbINjWF1M\n",
              "nly3eFLpsXX5QEvOZY9gqyxDFuGZoUdM1//Te2Hc1khezNCUWAN63dcg9utyGWONYYFm6Fq4vdGA\n",
              "B2gOvzjDV+oy7pbWsBGUd9tXPjV/CA+d3tIVcsHqEopEGrNsw/4/+vaCuGgIHgM1/BsgkWgVPM0c\n",
              "lxR0C2MYsR+6mFWAVzbVBP7h3LW1UT8jeZcCDiEDbjmmuKZt+kL3VuLx1ISNDwLAvOel/1/gahBx\n",
              "rQl7xRvA7Blszx0nytXMn8WHnDkwnYcwXwTW3XpPETcAAABdQZ6GRREsM/8B2xjY9ljYlKQAsnZv\n",
              "OftNoWwKN9FafXU/vBI6i3mxgFgF4BjV15cfe2eNoi3dOOfk33vztWqasiFLwOG0rXgHzswyaOu9\n",
              "PLokRR7vzdw+lrQH5QXlAAAAOAGepXRCvwM9DhkRACRBfpbZHDIyeRlbe0slKGpTDho6td+TC1iX\n",
              "Tnn0bI7sQ3jgzMEu7rUxtPaBAAAALAGep2pCvwM/lt8pMALFhd8cf3MqKx+qdbaaAwiAnelT02b0\n",
              "X8nKAW7Y/fflAAACtkGarEmoQWyZTAh3//6plhdtawATGyky/257fuBaetQvR9jyFB6mIzTJym0M\n",
              "T/+8C3D01h4oD/2KBpDlwmoaFug8oaNHLRcEAcUNTClZPcjzpaoV0m2hh6LKwpO8xDvriMuQZE/g\n",
              "hiRg95KAnxePeH9jOAx9JPmyj2n1r20easskIobdo8DvdTz3dbB28TvjnrkMo4fO3L35wYxnEk/w\n",
              "bgLf1cgYtqdb8OTedI1LsCfpa+zIbPcechRmL66Eqbd49mkn4+t2uPTQ4LsHz705CJD+qD0SSdHe\n",
              "rCeRWojD1cSTDijfWUOCeVB1KjKtRugu/OD4wjkaX0l5DlSZPHemcqmSZjnPCf9h6jp5yjjX1Gt4\n",
              "qLAHUABN9Unm98eYInudPgijHqcmOkyBo0bpSb8Z62RiQtdXdSMoWpYGBzaDgLdx+RkULIBO9cMX\n",
              "3YOF6F/xMT+gjhQsqgNwChYXlc/OLgE+moRck3I2VrXfYuRFeHmnmy6jl7nZ9dyXOdkPmuONx9dX\n",
              "Tqfoi0elNqGzwnSuGSBDqQUQv7rjAt65DsVFSppQqYMK5YXtpo83qt0TNio7BRnJqIUOhIjX79OD\n",
              "ETmyzCBma29+JFiP9faQAdLyhoNi07lN496xsJvMvevkCxr7fgJkPUStV/JGBMxErjfbpYTeTiOc\n",
              "MPMBHiOGREuXK9H8Z4+CAdL2gV9BbcUsWBzfKUfN/MaWoTsdMr03fUYdQSn1jPnayRlmeLxXCk45\n",
              "Lqoe6ug+qJadoxTCXP48CpW7fvkvuBZvD9PHReCBUCNHRBBeFKzR5ksiUYVhoIM7tT7VFZ+kjANQ\n",
              "TYKw36Bn+8iSAD+0KqZuaFSqSQPAQnC7N6GqbCg/+BPVJIu+WE97HAaJ0srKzt8t8DTqXgP2cf44\n",
              "AJ+SAqbQKqTmCpQgeumPPJS88iOR6CAAAACJQZ7KRRUsM/8B2xlSKh1L1apI4QHZ8ITtEFsfkMok\n",
              "Uvs24blZ8FIOCTZURX3rz9KRG10NqJFRW6B3uT+tonuduX1Ep5x4t5o8v67mqiWfmA2Q5GOxfxAg\n",
              "7hUmyk8OMQQWc5hvcEyxJijI00A7eQ92UmDm99qi5PU6io7NkfTf/XFpAd6Qt3JQtIEAAAA8AZ7p\n",
              "dEK/Ao/RlW4hrcZ+sfAj+7q6P+XA+EdUGKT2wgr3ysbw69mtKAH1SuPAXlXp+oc88+wdAixRQyyg\n",
              "AAAARgGe62pCvwMBW1mLegNeSBMUEeMEICR8nOrNPGSqftbenJ9GKWXFKPkK+paQC0+a03rNg+w/\n",
              "BbdoDtnHVd9idTf9+23xTUQAAAJjQZrwSahBbJlMCHf//qmWDP1Mzn7gWsIA5jyHPC8ODvhebWGC\n",
              "AM421sXNPVx3MU7rnXQylElJW5myr+9VRbsL8USgNMHD9OQ556LwVAjoqbuV+nFwmw+1DX1vXRS+\n",
              "iRAZOrPCfSLI9yVwrptXBBvLZVhbQMjIJD1TyYazTIHEU6yD1sioQVUY/D6y0zedbNBzTCoN174a\n",
              "yHTHKjtM1rOShE8KDf7jZG5deMmFA/wYluuzAzFXEOMEMfeFQBRCvJmJj1uv7zHHtPq7KhQrosCS\n",
              "qsw41a1iNl+VRU5IjWvoogA8wCph2RyKu4FzCcIwA347IOtHPYIc2+pB3nJpzSq+bqW8wfxRhRSo\n",
              "nBUflyeI36p70D18KjuWh/Ph2L6mossOI8/PYB624bDe6dbrxguQhMROSqjklwVt6VLEYLnbRMqo\n",
              "X7u6owOt24ATBcZ8yzKYVAs3LtpKqo6xUH9iDQc/xIozJGHpprGI/sT32XGjVPV43hWyBvef2wP9\n",
              "pfVDZHTdrLlADHBLegvjxYz0uH0E1EECO2fB+b55WTdaPT2jhaq3d+apcx2U+yAeCibebROu9d/4\n",
              "AZ18TbhKYqxUTHo83U/oi4uY8iBufO0GGwIL5uQm+L5wxT/UUsxgdJkcUQti5TgXneDF1e1QGT+q\n",
              "knJQ9St9kUQYo5dY91Fv1SeP2R9KF+DwnsLkuTq9SQ3lo4Qt5pvbCwRwHBmUD7Di9+anqPOhnO3O\n",
              "jLYy1J65jTxm13N5PpjyGftCU3nUiiL31tPQ8bmozCorfrY9VEDn/BBQEGtea76aGbZL0mVNIpit\n",
              "1Cesp60AAADhQZ8ORRUsM/8BwvQb8/V0MyIfbwov3UmKr6JDSs5fl1QDupGmFtPC0pQWdgsUV17X\n",
              "8aQCBFojPJrLkmCKG/iTIH4xbmIn7lS9wY1sztSAK45OPXRX9CgqOGATQXVhW9XipsedRaaQqs1x\n",
              "3zeNZh3qDc/qmBNJjo4VcGpr4WRbwFG45ByNP2juQGsJI2HHzHuhiGA+Y3YQPlJI5fQMg+CgOWXN\n",
              "0cg+l1S05AdEkh+AGpZZqhAfy3wF8y2I8AP86XubnVnKP1BbH6yrjl4vS7SFMcC7VXyAaUKXUics\n",
              "jshEk16BAAAAfQGfLXRCvwMTkuwAFz5uaWJQE1MUkMp13aFPpcUJpB6bDVQfBlOMpH5++0LoNwwB\n",
              "zA6Y89MIjs0JlYXzvAqPyXTuSAk6hJLGomX6VQnVDTJsX2OHZ+sCTXOMzK/SzV7rE0Je9Z0f3mqy\n",
              "ouwCAJ1744au6g4Je6E7QefsL21JAAAAfQGfL2pCvwJ2OrW9VfLr6/tLeAA0nQWCLBI8qSJvfGSm\n",
              "AYDFkP4e8jn4Yc7X/TMPdcl/QfDXxIpHkxV4c4o3mM7njBuFmawZIVwObi5+wnPyvYb47pGqMMN/\n",
              "7e4Fi7MwrxHHZgHCIEJ7ZlBNbMfovxplz8bu9bcp0iyzvMP7AAABgUGbMUmoQWyZTAh///6plgzx\n",
              "M+3y2yIAI7aJgXCf5oX+UNmsV9Aa/oxuJIIUQJSpi7kH6mCbqCkmRAzP5YG+7dSMP0pwIT0yrUZk\n",
              "gqKw/M9MEgAgrLm5tSelBd1JN0dUXxaMOwJRLpPMcHNj8l+ENQQ/bbAQdonbMQ/9XheJ58/v7Ve5\n",
              "kOaoKgAoye8q0pHwigyUmNnnP6ox9ig/ZFNaAqhBJMEXICqQHWOgYWBm4SQwjiZ9DR/3Uo2Cp/da\n",
              "UK1xxkU23jUL3IEbiyIsuW6ImxPzDWUfsyd9Ia+0OjaKuFfs1+Zf0hog9SeHobA8Alz57vQ1kGfi\n",
              "BGvn9VuHIswzoxuSd9/usRMQOXIfKmQS7tFfyw6zLeMjssY0B26987tc7XTwQFD3sJDPVocJb+A9\n",
              "CmE34eeNogbpjDphxyF4OkudOOfyok7vONipvBvM4ywszoAu/oEJEDgR95g2VWgNn9UhEd42sfmT\n",
              "aPvWKAlVpD5UKrcqyIz4M7j5GtRaFMRQ8+AAAAHHQZtUSeEKUmUwIf/+qZYFS2asNpA8jWgL2nw1\n",
              "8m2Hg3QSHFIc4vY4Komf+Nb/bO59jx4CBGRSAOHMIpF0Cb63omN6i8qHFuBvhWsRr5EHX7wkMsRd\n",
              "GnruOPHJW25408l8/lQmVTngzmwXV2xuLjjidHmPFYmVGnE96PPzCPafsv9S9TE3hgkQV3i5bM/z\n",
              "P2dL+jNOe5cRtAsEhjxpQ3zevx0zDdxjXGZPc4/F4KbR56FE+f9pxW4yaIAtT3/xYRrDZqD0PDMl\n",
              "ynYlhiv1Bo+cyzEpvLIjStKSvK0++7xk13hfXhMkf7C0+9uzA0Az7px6OosJ3qCRlpKjrT8yX83Y\n",
              "C9GymP/9DKyE34DBMyc7IzChWpkplqS/MRqEDHGDgUcaV0cAF38hZOjjmoGYVR66vVaevDPUycaM\n",
              "YvT8nYar3phclrQE6xOL9My8pVpl7OZWgWS5YuGpfyKAb9/24ewd56VTwJ8qdRM6HDNcjTggA8l9\n",
              "kVzAfvP5wVWtjUNL00KQN/NQ0ian+4pgMlxehF3OtazNEivoqtdxVM8dZTFYyjgF7YNNZG7Ns3EG\n",
              "gHaC0jFd+wHaTsgGijzbCx2FKPoaKfThuYAERbUAAACgQZ9yRTRML/8B1fIWOJhEALXQ6cu1GPUO\n",
              "LH32aa3sJkSHgIP4setKneaPiN4zH6tqMA2XOJrtf68jm9afNWBv1RGHKbQZVQtBkfZgjtOLewC/\n",
              "/LAU4Dgigj7+QqfK7Zl6hHUGGih1iExfE91H0QUnPeul890mdfggaHjmA1tuuHL0ilZCZCoJJkU4\n",
              "XTiQkGktuNQSkquXgmvq1SotAERiTQAAAHsBn5NqQr8BDwzuePtBVpKmWU/UAWkX7oKKp1t37r6W\n",
              "RYmmTAzOIq4rJCLJigS+ssiMGY4ZtxuFpJv0vgS/RlIYRHSzdPM3CBSlw0iKEa5qNDMbM3Rh3Qtw\n",
              "/jIXG2CA89VuV5V4/Bs8llwJE4D5rmTpBrMvUTXUOxkvWJ4AAAFfQZuYSahBaJlMCH///qmWApE9\n",
              "8AG2UGzfYsQYvkaxdt1ir8WVhIj/mZQBwrgOsZenJaiEd6O153mUgG0Cgm6f1VwRt5Io+w+3WWy1\n",
              "Og0QEtuPypmitt6a3t8/++zBvBEEuTyo9V9VMCjrgf3e/GUsIQNfWfYCPznaD1oEznNvNSHsTlEk\n",
              "/mm1q1kGt7bKSjTJv4Wjp8oUcAAmJoArWcnDD08Nk4I4JKrtJZ3j7ByCNfTR98EfY4jgEbzyGGjl\n",
              "Idpt9Jw2HxwQXq7wzYflhWBQ3NyE8zr0eELy8Mk3s6A89BUfxFiDAJCd3EZbA6cIPEb/Ij8c5jV5\n",
              "B2mBu7g7QHcZSQhue1dW6exgaYm/pH+54FU6bb2NgpHMo1KoMVe5DuKlF3uYt1QznL5n+RSkGy2C\n",
              "PhCQmdZs1gowLbs75ybxzM0cGQNipMM2fyXVkfg0h61n2wPxLQYCRCEu6WREqDVBAAAA9kGftkUR\n",
              "LDP/AR8PzJ55xMaeAAbqhDNjOUCaCsmP0/NUCQoDDG/GoUhmprlRV554DL6hHh7vk9DTOTEAa1RO\n",
              "+0yP/MbSTtDApQvZ2fS8afDPvVKCNqxbGe9Or4wBqQpJQez1N/oZTeNJxDZrqD9rbrkE6+9B2Bg4\n",
              "jIglmeYOiMmXOabKNAHhYTVAnvdWaV8ySx/597dZ8rwJjB3XQtiQFN20sNbRgf+IJP8/Ty+iFpCK\n",
              "z/ZxTWOhwykpUGMbgRzCVcfU+/b+BBFTn0Yg0Y0SOPCwEmf25oQJVTPZ2X91VNftoDXjBm4cmR1M\n",
              "E1yO8Gv7+c7LAAIBWQAAAGcBn9V0Qr8BDnRrRKAyWZEsQwodr4gCqX4jytVGiEKAn+yygViR/0FC\n",
              "5VtaMOFPu2Frtlg4LE3bB9wnmQiAz0I+Wb1W2ohaMdJjZE4vxsR5DCGPDgwc31ND3fRnX9aySHac\n",
              "MmXpNW+hAAAAVgGf12pCvwCj2ByQH0fQBBgBGMt8V8IGzWJLGigEBHhBNZ2t1EPzss+p1toV6gWM\n",
              "X/2vAZOqbKnXIzi9yu//Mt4I3VaMtltaV2PKcuRdB8PlAXaW4RyBAAABvEGb3EuoQhBbIILAfxII\n",
              "IeCEB/IAh3/+qZYM+/9sk0uL9QB+1225X6zsG3pbat821Z0vD4Gdw5Yq+fRb7JZDxjdj8iNRhkDk\n",
              "2poBqN6uv0gmUuSdGG3WyxFLpoiZZVAJv+pyjPc9WYSlHEbaDlb8aOztR2JHIr+YB8lzBEMkJII/\n",
              "2pcP5dkopFwprrYU+1P0Jr+xDmWn3aZpPGIAnJ45HrVyAWbYJ+4FCracOnvdcdN3ZleEYXFGtDG7\n",
              "+Yvialff9SCYjHkF7ahbkAOgxcuCyFcdWJCu02X/Y6UadGA8st1Rl2OWtjnu3448AMXNKPabpBPc\n",
              "YI8rWO6wOhQMpjG14MDR5bqS4cf81kB2YzO2pPdYPL/k9uaDtOTSOQSlJ6BlIEUQSylthhBZ8Hv+\n",
              "gulLvFrVGRhJcHsiyTtHpxODQJRAL+WZQCF+f6NNJp2CNuYXkYwO/jAD0PBda9PT9bVZioTi0MlX\n",
              "I4C9pAA/tXB4dRJsQtWT/4DFpSfQkhRoJ/VM6FUE67xAxNmEI9CKB/cgL2oCu0ol0mi9mb61Ay0E\n",
              "qFPNxCGN3rTDHt+e2XPUKeFpC5ArCGBfPfXbqqR4WAAAAPJBn/pFFSwz/wEChIOoB+9G4MgGHm3u\n",
              "p/caZiIqCbwtnEviM/SPEwaZSTFIGgqDI8Otdkadf+pcjDh4Uh2qfUyHNHGajnIA4arJ/PhZwAvc\n",
              "rpS4/DKrkuk2L3DC1tYeEJbKQyen8JnBvWmk/Vw+X5TDNLN5G6ah5oGp5fGCIJEgqpBV9/mMN6CC\n",
              "BtdQnLuyDKp/jh5/t2bmvX4CTZ0u2QTAxmWiK2st+AXmapif4hxp0UYQ+QAuBUtkKppgkjc2R9ip\n",
              "aVmOiWdtTj6rZj2oS0iWkR04VxcI0fV0yDZ5+HttlfsI7BiSj0X/Sprpbg0qyVPKgQAAAGwBnhl0\n",
              "Qr8A7UQ1Pbfybxwf+IAzYs81giWvpo4o+QSVg+rH7/Oi2uJpYSPQRKNaJfsYtcZmj4NJBjRQOt8p\n",
              "mWGaTGnOM97Uu8pkzE0I/RuM7U/hpEU4rZ+xNVhiPxF54dr3y9cAmn2KhqkwCMAAAABlAZ4bakK/\n",
              "AZ0f8YZCEFtq2AxQBDjbE/GyWmqeOHhgorR90kaqGWZ3A6GLDqC5ArVht24Vgr1u8UpsEaNd37K3\n",
              "RkqqLUaq8jHrOT+U49HnSpsiypR0m4bDai89weMd4ciJ4+MAYRcAAAEbQZoASahBbJlMCHf//qmW\n",
              "AtTIhEAQjQb8s2Xqj9te+k9z6ETJXohOs6Bf7VeLRe5rGm0K69RgqLfRrJM20bw9nr2+dsXO1le7\n",
              "UDnHSS5XkKNSR8tQ8cf5oc4NN2vCyOGX9Kko5SEaQe71QQDLSU45RhnFOmESxw8Hds5fZz/l5rQc\n",
              "zMb1uarFxgwNleb0SpDuEapgL1Koa8aYLrtuhfLqAp1Q8jIit5M463YsKqjbGuCQJn2YINrjfg/O\n",
              "dLvQrzmlyUcDcwzZSmsyviYum5yzb5MgwQAjdYlAyNPs6ZKMBlAUL46YDqUtiOqaMmfYa4E+ZSRs\n",
              "sKmTQ2lmK+iHEEwgWkZLIg08SXywHGiDBi7EDX7YLKhxFqJm4wBDwQAAANBBnj5FFSwz/wB++U4A\n",
              "gXY50gqQ6JUAra8YvUf2viN+DjZWMB16ygqPJc8EcIJkyRjZbQX3VGe1TEuXET/PIne1UF5BypdH\n",
              "ED85aNOjTNlE4nkPM5/PyVBsSd3qFPrIkF5vFlhPTmLznl+Tk4LjHBvWG6NwxgVYmFejLYA5D92G\n",
              "J4Ex1Wqzi7j7ibAh/ICTtFkKls1OKua+OGL72J/6TdEjAnb6Gdf25vsJKeaY+exS6iavwdIfB0ey\n",
              "iFmTsU1d3FQyeuij8rhPYpy1QjgXvsWAAAAAVgGeXXRCvwDs8CK4gACqpELdmSDv/S/zQisXnI/F\n",
              "9cvKpDhZxaiJU2coLHv8HNb/QZ8eLNWQrFCOgztWdqaQAOy39CM7TfZwGvcWtL6QRSIy1tPR3Uwg\n",
              "AAAAUAGeX2pCvwCoV7lwyiKD40NfmQfwANq/+O1KOd8irtKba1qvBZCiORm2UIN5M7vKOnd1Vxdq\n",
              "5xmuMklWUJHv/XPoO7PBQl1+GJQbChRGEgHbAAAA6kGaQUmoQWyZTAh///6plgGqvvgB8+a8eTFi\n",
              "XRVtZ65TY1C2xN06yYPm340+DHYdcFCKC8eG2J79QPpOCc/GTP+gcoq2QXi49/8+jOq95sV97JyL\n",
              "x1KeuKrc6hHiT6IBWUkDOQPjs/V92J6IYLvDEBntL62Bk3o4Xi3uy7zV2BetKgHNkko/eFcZXdgJ\n",
              "PeXuOqHi5+71mnwHVxswMTYgy/2vxbX5fe0U3mp1aZ5C9PLQ77rXkq4HxPHPvJsobKgT9TWm6Nxk\n",
              "t4psrxSgD/rFgoUczv7LZdSI3NKGpfEStaFG5G6IhTrUlyOTcAAAATpBmmVJ4QpSZTAh3/6plgDR\n",
              "3/CAmOXGS5M3LAP3hw1x6s82TID/VefvZl/RpcDUZYoQxUA5Glu24sPHrZKaauWIkh2uFVLxCQqm\n",
              "5nfxd2dAsfqq0/gyJdX3inDKkLH9O+GfR30YMelwVxHzj48dpizrmSMLnDaTu1jOuzJTsiU7J3Nm\n",
              "QVymCFf6d/7+Kjp8Rz5r4TuhoPvmhbiHzJdU+dgbGcH6NaxpVLjk6+JsJy1FFe2mv7q+N0DVp+HQ\n",
              "jNmBigiqSvPSyX/eBQ0SMBagu9FjmTq5mJ0D79DgREnoX0To4GF1/TiMnArboxUJLvfitBHPrggn\n",
              "q2/yqpOS7fBGMUIBTFQV+F4X6Ln9E7IIIehGyWgJ/1DhwouTyWMKfuZk00ax6Wsfp+x6hBCMkKvL\n",
              "uYTSsbSKrU4hSNdJgQAAALdBnoNFNEwz/wEfFF6anIcav/mZromYnIAbPvuQWvKZj34C36/g8F3b\n",
              "BdVze3lU9FHXmUEhGtanoX0YLDJErmgkkj2OTFfj07SePPC4DX7xem0WaQzYLor8EfSvhWoklHg4\n",
              "P7ENDETh0HsxiEESjftJ6NGgchA/aG3eMwmZtTzdz9sLRKEWmeXGa49hLHbGwq3TGgPBuPu9NRS1\n",
              "Ulh6xdXFUMah2g+iSfZQ4yzGwJKvGs5AtTaxveAAAAB+AZ6idEK/ANJ/luL/gAIq2M+lS6N7aVxE\n",
              "gr4xYHXIHdtahFSb40IgaQbmylh3iAGHJv+4MOS4JgZMPRLKsJhBfOB8YCPadr+JzGnDi053E8Ma\n",
              "JTiEIj2/uTXBSzekpf6bvSVtBJ26z3Gf0bm150MUQow/CKKbybuzKKTiFJ4hAAAAcQGepGpCvwEe\n",
              "ZeYvxIixJcuLxKgC4+bbKtJuODJK2v/JZQ7ZDm4FoorWQkgiAVNJCE7FqkGmcrsrios4PkKTBfQT\n",
              "rTm8LMphTrB+HG0azcsxrhlsPXxEhWx/KAIIDYWUCbhJ9/TKnMWOgHfwzFcS5pj7AAACR0GaqUmo\n",
              "QWiZTAh3//6plgGwLn7yLP1yKnZLVUiwEtMn8ADWpmK6YY8d9/bDtpz2jvcqcntvaacoofB2yO36\n",
              "q6zWrwREt+e5MtBfuvHENBOHJyvmMmywEmwe4Csa0VQt1xrtMbz7enNhBIEx8kw4fEbIJT9/jYSE\n",
              "7xBwuWEC/bTaJQlGTdY0WBQFeH5FZiCmfRQL3bkbwQ3RKJAVSuWvCnA9FM328SvY3sm5iDLDxqdJ\n",
              "6vAnOQstZDBPvlweLkNPaL/wZuKyqxez/DrcHYAXofZRQGainQtKBXCeRZeNNNQpltmNmakhCyIW\n",
              "GWdJpmmpOxMs9f5MYl3tdnpaXuMNrPeNVGTKPAVqlTk7pQBOtqqTHiIfoWYrLOdD7m/ayIW4f5pD\n",
              "LieiqSnEksItEyatDMp/aJs5tDMBjuLowJ88FVvhNpqg4VeFLAjiVhxlDdzrGbTn0IpkhCnZaTpa\n",
              "EOCVbmIKdld+l8mNI9VOuBEf+mKti2Yp59O6xsthXCOdTc6k0QX6cKlJyGpX+ZNqbDKLv/0dsRDF\n",
              "3P2uG8APeByT6j8jAAaY3utRvSaschZEAzKPhYaY4emA8yocwfXYZY45tiAo034nKHQ/PnhOwpG8\n",
              "/0Ls0KPU4HLeXkpSfog8HtqGYKPzX+mccZeMspLCm+KlAhFjVuP8c7mHNahITyiaZwVdIATzECJ1\n",
              "1KTfis1306plqEO86EDxiiHCAyy+K281OHvWeKqbKqR/qDaxLER1zzj9teDQspO1zNMehlne743y\n",
              "eBcVDMsjWyMAAACiQZ7HRREsM/8AXSAnmlmkYABEev0qmHvazlgFg4ojcrtADgecUi60sbfwRuvj\n",
              "5hM1ARF0qlCrUJ73N81Hnm+s74W3Fyn9S+xyKnJ5Yz5b4LHH/ZE6dUPdTU3xT3kcXBfu26/21xTD\n",
              "yxq9fQg28ZxbqN7mQThswOgTehkqeTNiuhR7qeaYnzQasBnjzhZ3bCO28K6UzuIQunDZUUCdq4mj\n",
              "aWU/AAAAbgGe5nRCvwB24X27bFEXgAIioNrfwb5LasPdDhIFsn2Qm7nc83aTEL5WEKpzdfdbWrwZ\n",
              "tTrZlJbAgRhs9oh3hhebHYKsWRfbxoUu+cPCd4hAGlNYO3qscBdbz2NMW4TmYpM5wQn4azsCZ17L\n",
              "Kl+AAAAAdAGe6GpCvwILEAhKg7D54klxWX0M6gC5LhH1LTMEnvhcj3KKrPeK+VNRKcuMoaq7gP3z\n",
              "GjzsO5BqEGvGwXbewzxoL1xgr2eUzcslGxkNXGVrH4GAsT+8NugBl9Pid42lXRzOv0OaDPCmq2eT\n",
              "mvXCDV2c4G/EAAABeUGa7UmoQWyZTAhv//6nhANU9wJ+hZOJnwANMYyPLdMxfEtm7OGXnjWmxcqY\n",
              "fl+rvR2erQ1wJ/cAlS7lcNxbh8AfM9EHETXid/DNSKVjnwrTxdvXp6qyItmxTYz1yc7LFXKuG+Rw\n",
              "/rcy9NQ19XZtwP+WJYkvwi4UsOjeiXrcZ+aJBy3+l+h6NVNRNNz0aioUOrXZKwLMuIucDWlVQAmT\n",
              "kKk8lngyQVWe+4omCcHOiVacxXHPBN45ymG6WnEIOc7L016wrI4I+xe+R0zzAwbbJ0YhBTt8fXoB\n",
              "1ibLHT1JojB2DgFBo5JkoVKYtD/CmgMfAWZCWUGFCZnvcJHLO2jR3o/OsTkUDqGcrwLFsHhGA0en\n",
              "toEGNg0S/0Nj9LdwTAY+RVb8j0xLrn5ZRdeNyOfg7pZAo53sRrO1AysUtObDAe76wzhYXUurt4QT\n",
              "W/5K77pPG8u9ssKvCGB2OZ5C8FCkfyPSsYoNobZBp5URdVdv8WeaSa+6VznT1/chAAAAlkGfC0UV\n",
              "LDP/AOf/a1PTHoaPd155NSj/Wubxq+T2AIceebtrX+eat6o/BOLE8HUagZWky4oUZ/QqmgQYdH04\n",
              "hN/b92X3bkO9djOLoObYvtpaJVWdFjNpc2Zk/kkBbJ0wqrooWM7wSoeElsPnSxg7pm6dTM4vZYYb\n",
              "bJdS+ESDvFS63zQuN4cLI8O2C3r21bhOVvtzYW/LmAAAAHIBnyp0Qr8ArUFmAIkOIsIaxaWpb90V\n",
              "FDsFNR4wtOAV68tJIC9Hu7yy7rSPDxojJA9Wh6VwRFaVjjvux/54e681OH23/jyf9YxCWrV8nLkb\n",
              "fkXPkjq+djVVZiIAJoGhxgtxGrgeLl5PXu18ZvcPO0NTsaIAAAB/AZ8sakK/AKy1BY7gAQtr/Ay2\n",
              "XOnj7yG7oPTiqTiwcnTD+TXWHYi3uUrxiPdYu2kDQAIttsmTvYsS4jZie+e/f+1oSYHdSApB0ojX\n",
              "ZBQCnD74siD9wSnCZdj9V3ZX/v9md8e+YmNg939bG4rG97UaBXoNqVRN3H+KcU/Ey1SmwQAAARxB\n",
              "my5JqEFsmUwIb//+p4QBwRohQ7uErDgATSX6gmRxcJgXmFosLK2pq3SYyD1L/q7tRqN3aYDYocLO\n",
              "R43G6V6CitwqAS7FOzXb/WL7FJM8ljDqygRk1AE6a9GqGkwLFR2aYgboakyQbdk+fD+rnhKmbW71\n",
              "MNTIxGPjfp8aG43KOn6PrB0/duU8bm6vb9AfZbOTHlym17irpDiCl54ukSbObZwRFgY6vsStlUmG\n",
              "chmsMgfSmaQSFuVj+lJpJglsm3RRt5OBsj8ACv4UicxWIfbzeoTfbU0kKsfXgad4gRzg6lx+rxcd\n",
              "tAN1vLXl5NNkAwAQiQYbBPIyvjJi3foQ3WUFht7jzHmF3HSLNQE7+62yEccNSoduObyLviJGJwAA\n",
              "AOBBm09J4QpSZTAhv/6nhAEkrW22IBKsNnvDAzyL4/l2IGc3HaEruEXlSk2Znav3Zl1qhwAjWAS3\n",
              "HoXHsFx4sQ8nSy+Cafl1SfxFvgzUckWIfpa19BByfquSS9rQQ6YDGu9N9g1WbeQnd4JYlnkMb36i\n",
              "YoH3g5Hu8LW90LwYenPX033xinqyz8tjT1aLnk3LYiRKOpVFlod1GcEkKWks8i0J8xja3nF987uu\n",
              "yRw3whTsWSXWU+1vlq1MBvGquOKxyw7nOh4fO1QSYMGXRmoPSplOMjX6Iyc4paQR7XHWi93gsQAA\n",
              "ANhBm3BJ4Q6JlMCHf/6plgIjg86nuk3HFrOgiJuFfwP1qsfz0B/Qv9QLmdL3Afo6cXiU8g313DAO\n",
              "EyV0g8ZqK8Ft+EW2X5yXUD0OwboBf7TMkvnG2VTctlUBXlbbOdyIqYoedFV0/jXS5qwWPWoBYWlz\n",
              "6E2oz7adtLplFGnSvxRbNypie3lCLQBRe5+zK9YvidHEktLjGS/aRPMVk1tMYkxwkv93Oq42vXLl\n",
              "KPeorUrjjdKEScbPemIYKutqv1ohYSyZj8skM67IDVaOIeE3WeO3aU5Z7e7lrtAAAAEKQZuUSeEP\n",
              "JlMCGf/+nhAFbQlBCRdMJRmxyZ77ksyDg/svG3nPcmnsoUDxhImWMs9NdDBs5JQGH5+d3CzCT53r\n",
              "LsD9+FvIsPJ/avVxANpe0pqfvRRGMnVwX5NySmAuepFGHys/L8mNGFIfCVV0BOeunJprZ6wPJjKj\n",
              "CXv/f4YrGD4PPndqD2CFSUgo8nMKiwc7nvgWjWp4URru+iP5BYPuHEPBO2GoyEgjYWrFv9U7M6Ov\n",
              "k0cayjc3fBW3hAChZrCRwHCVO/V924vBH4RrwmtUTnDv1HiF0tCY+n9Z4up179us/daXulBvKXrn\n",
              "xxeiqpFt4q7oSmMKBasrCbMzIEzDWGEVHVrwIbnrnFAAAABmQZ+yRRE8M/8AeW0VgkKETGcwkPXk\n",
              "8kVuX8yGp7RWBMgB9eGQo2Hp11ViViZJORzGbDlaD6c/3WpocvMQr8N5NW5p8rCZo1iPfjdW2cZt\n",
              "7DCtOkx6ldxHsQ6B/4HX4g7GNqbwE+JXAAAALgGf0XRCvwBLfBk6ZjYW4x7i+4J96xgRveGqqMzp\n",
              "vRsh+J4y5wAEKvKcQiFmiGQAAAAwAZ/TakK/ADinBJwAR7tfDZIcCEJ4rV9w6pFoKH7HcTGLcJdk\n",
              "n4PtlGlwnJykkKiUAAAAXkGb1kmoQWiZTBTwr/44QCYV+RNp6iIsgzGMHKRdX6y2ViYqp+pg/MCf\n",
              "ESUXdoBmhk7Kifwpkts0r94dGlIbJtkkJvy3hDOAD7+HcvjitR62b8FTMik0h1Z+1y38IbEAAAAx\n",
              "AZ/1akK/AR6X0RBrAZ3gkmQhMGi6pLixMMWEc+7rkKZ//zVHgnfBoktxQ0AuvqbEwAAABattb292\n",
              "AAAAbG12aGQAAAAAAAAAAAAAAAAAAAPoAAAKvgABAAABAAAAAAAAAAAAAAAAAQAAAAAAAAAAAAAA\n",
              "AAAAAAEAAAAAAAAAAAAAAAAAAEAAAAAAAAAAAAAAAAAAAAAAAAAAAAAAAAAAAAAAAAACAAAE1XRy\n",
              "YWsAAABcdGtoZAAAAAMAAAAAAAAAAAAAAAEAAAAAAAAKvgAAAAAAAAAAAAAAAAAAAAAAAQAAAAAA\n",
              "AAAAAAAAAAAAAAEAAAAAAAAAAAAAAAAAAEAAAAAA2AAAANgAAAAAACRlZHRzAAAAHGVsc3QAAAAA\n",
              "AAAAAQAACr4AAAQAAAEAAAAABE1tZGlhAAAAIG1kaGQAAAAAAAAAAAAAAAAAACgAAABuAFXEAAAA\n",
              "AAAtaGRscgAAAAAAAAAAdmlkZQAAAAAAAAAAAAAAAFZpZGVvSGFuZGxlcgAAAAP4bWluZgAAABR2\n",
              "bWhkAAAAAQAAAAAAAAAAAAAAJGRpbmYAAAAcZHJlZgAAAAAAAAABAAAADHVybCAAAAABAAADuHN0\n",
              "YmwAAAC0c3RzZAAAAAAAAAABAAAApGF2YzEAAAAAAAAAAQAAAAAAAAAAAAAAAAAAAAAA2ADYAEgA\n",
              "AABIAAAAAAAAAAEAAAAAAAAAAAAAAAAAAAAAAAAAAAAAAAAAAAAAAAAAAAAY//8AAAAyYXZjQwFk\n",
              "AAz/4QAZZ2QADKzZQ4d5ZYQAAAMABAAAAwCgPFCmWAEABmjr48siwAAAABx1dWlka2hA8l8kT8W6\n",
              "OaUbzwMj8wAAAAAAAAAYc3R0cwAAAAAAAAABAAAANwAAAgAAAAAUc3RzcwAAAAAAAAABAAAAAQAA\n",
              "AbBjdHRzAAAAAAAAADQAAAABAAAEAAAAAAEAAAoAAAAAAQAABAAAAAABAAAAAAAAAAEAAAIAAAAA\n",
              "AQAACgAAAAABAAAEAAAAAAEAAAAAAAAAAQAAAgAAAAABAAAKAAAAAAEAAAQAAAAAAQAAAAAAAAAB\n",
              "AAACAAAAAAEAAAoAAAAAAQAABAAAAAABAAAAAAAAAAEAAAIAAAAAAQAABAAAAAABAAAIAAAAAAIA\n",
              "AAIAAAAAAQAACgAAAAABAAAEAAAAAAEAAAAAAAAAAQAAAgAAAAABAAAKAAAAAAEAAAQAAAAAAQAA\n",
              "AAAAAAABAAACAAAAAAEAAAoAAAAAAQAABAAAAAABAAAAAAAAAAEAAAIAAAAAAQAABAAAAAABAAAK\n",
              "AAAAAAEAAAQAAAAAAQAAAAAAAAABAAACAAAAAAEAAAoAAAAAAQAABAAAAAABAAAAAAAAAAEAAAIA\n",
              "AAAAAQAACgAAAAABAAAEAAAAAAEAAAAAAAAAAQAAAgAAAAADAAAEAAAAAAEAAAoAAAAAAQAABAAA\n",
              "AAABAAAAAAAAAAEAAAIAAAAAAQAABgAAAAABAAACAAAAABxzdHNjAAAAAAAAAAEAAAABAAAANwAA\n",
              "AAEAAADwc3RzegAAAAAAAAAAAAAANwAACfMAAAYRAAAAVwAAAEkAAAArAAABoAAAAGEAAAA8AAAA\n",
              "MAAAAroAAACNAAAAQAAAAEoAAAJnAAAA5QAAAIEAAACBAAABhQAAAcsAAACkAAAAfwAAAWMAAAD6\n",
              "AAAAawAAAFoAAAHAAAAA9gAAAHAAAABpAAABHwAAANQAAABaAAAAVAAAAO4AAAE+AAAAuwAAAIIA\n",
              "AAB1AAACSwAAAKYAAAByAAAAeAAAAX0AAACaAAAAdgAAAIMAAAEgAAAA5AAAANwAAAEOAAAAagAA\n",
              "ADIAAAA0AAAAYgAAADUAAAAUc3RjbwAAAAAAAAABAAAALAAAAGJ1ZHRhAAAAWm1ldGEAAAAAAAAA\n",
              "IWhkbHIAAAAAAAAAAG1kaXJhcHBsAAAAAAAAAAAAAAAALWlsc3QAAAAlqXRvbwAAAB1kYXRhAAAA\n",
              "AQAAAABMYXZmNTcuODMuMTAw\n",
              "\">\n",
              "  Your browser does not support the video tag.\n",
              "</video>"
            ]
          },
          "metadata": {},
          "execution_count": 5
        }
      ]
    },
    {
      "cell_type": "markdown",
      "source": [
        "## Editing Frames and Writing a Video"
      ],
      "metadata": {
        "id": "FO113cm6ix9C"
      }
    },
    {
      "cell_type": "code",
      "source": [
        "from google.colab import drive\n",
        "\n",
        "drive.mount(\"/content/gdrive\")"
      ],
      "metadata": {
        "id": "J0peGT9bq-Il",
        "outputId": "54a9be68-8417-4e81-8540-9acb036cf62b",
        "colab": {
          "base_uri": "https://localhost:8080/"
        }
      },
      "execution_count": 1,
      "outputs": [
        {
          "output_type": "stream",
          "name": "stdout",
          "text": [
            "Mounted at /content/gdrive\n"
          ]
        }
      ]
    },
    {
      "cell_type": "code",
      "source": [
        "import numpy as np\n",
        "import cv2 as cv\n",
        "video_path = './MyDrive/collected_data/collected_data/interpolated.mp4'\n",
        "cap = cv.VideoCapture(video_path)\n",
        "width  = int(cap.get(cv.CAP_PROP_FRAME_WIDTH))   # float `width`\n",
        "height = int(cap.get(cv.CAP_PROP_FRAME_HEIGHT))\n",
        "# Define the codec and create VideoWriter object\n",
        "fourcc = cv.VideoWriter_fourcc(*'MP4V') #codec\n",
        "out = cv.VideoWriter('output.mp4', fourcc, 20.0, (width,  height))\n",
        "counter=0\n",
        "while cap.isOpened():\n",
        "    ret, frame = cap.read()\n",
        "    visualize(frame)\n",
        "    counter+=1\n",
        "    if not ret:\n",
        "        print(\"Can't receive frame (stream end?). Exiting ...\")\n",
        "        break\n",
        "    frame = cv.flip(frame, 0)\n",
        "    # write the flipped frame\n",
        "    out.write(frame)\n",
        "    if cv.waitKey(1) == ord('q'):\n",
        "        break\n",
        "# Release everything if job is finished\n",
        "print(counter)\n",
        "cap.release()\n",
        "out.release()\n",
        "cv.destroyAllWindows()"
      ],
      "metadata": {
        "colab": {
          "base_uri": "https://localhost:8080/"
        },
        "id": "lLWRA523cqL9",
        "outputId": "a93d775c-8a49-41cf-a4dc-efbc5b7265f3"
      },
      "execution_count": 10,
      "outputs": [
        {
          "output_type": "stream",
          "name": "stdout",
          "text": [
            "0\n"
          ]
        }
      ]
    },
    {
      "cell_type": "code",
      "source": [
        "video = imageio.mimread('output.mp4')  #Loading video\n",
        "#video = [resize(frame, (256, 256))[..., :3] for frame in video]    #Size adjustment (if necessary)\n",
        "HTML(display_video(video).to_html5_video())  #Inline video display in HTML5"
      ],
      "metadata": {
        "colab": {
          "base_uri": "https://localhost:8080/",
          "height": 345
        },
        "id": "gkUZzxFIhoU-",
        "outputId": "b58c5c8e-8ff8-4bf4-e6aa-4d1bf113da41"
      },
      "execution_count": 5,
      "outputs": [
        {
          "output_type": "error",
          "ename": "FileNotFoundError",
          "evalue": "ignored",
          "traceback": [
            "\u001b[0;31m---------------------------------------------------------------------------\u001b[0m",
            "\u001b[0;31mFileNotFoundError\u001b[0m                         Traceback (most recent call last)",
            "\u001b[0;32m<ipython-input-5-5d19fa9bc2a7>\u001b[0m in \u001b[0;36m<module>\u001b[0;34m\u001b[0m\n\u001b[0;32m----> 1\u001b[0;31m \u001b[0mvideo\u001b[0m \u001b[0;34m=\u001b[0m \u001b[0mimageio\u001b[0m\u001b[0;34m.\u001b[0m\u001b[0mmimread\u001b[0m\u001b[0;34m(\u001b[0m\u001b[0;34m'output.mp4'\u001b[0m\u001b[0;34m)\u001b[0m  \u001b[0;31m#Loading video\u001b[0m\u001b[0;34m\u001b[0m\u001b[0;34m\u001b[0m\u001b[0m\n\u001b[0m\u001b[1;32m      2\u001b[0m \u001b[0;31m#video = [resize(frame, (256, 256))[..., :3] for frame in video]    #Size adjustment (if necessary)\u001b[0m\u001b[0;34m\u001b[0m\u001b[0;34m\u001b[0m\u001b[0;34m\u001b[0m\u001b[0m\n\u001b[1;32m      3\u001b[0m \u001b[0mHTML\u001b[0m\u001b[0;34m(\u001b[0m\u001b[0mdisplay_video\u001b[0m\u001b[0;34m(\u001b[0m\u001b[0mvideo\u001b[0m\u001b[0;34m)\u001b[0m\u001b[0;34m.\u001b[0m\u001b[0mto_html5_video\u001b[0m\u001b[0;34m(\u001b[0m\u001b[0;34m)\u001b[0m\u001b[0;34m)\u001b[0m  \u001b[0;31m#Inline video display in HTML5\u001b[0m\u001b[0;34m\u001b[0m\u001b[0;34m\u001b[0m\u001b[0m\n",
            "\u001b[0;32m/usr/local/lib/python3.8/dist-packages/imageio/core/functions.py\u001b[0m in \u001b[0;36mmimread\u001b[0;34m(uri, format, memtest, **kwargs)\u001b[0m\n\u001b[1;32m    352\u001b[0m \u001b[0;34m\u001b[0m\u001b[0m\n\u001b[1;32m    353\u001b[0m     \u001b[0;31m# Get reader\u001b[0m\u001b[0;34m\u001b[0m\u001b[0;34m\u001b[0m\u001b[0;34m\u001b[0m\u001b[0m\n\u001b[0;32m--> 354\u001b[0;31m     \u001b[0mreader\u001b[0m \u001b[0;34m=\u001b[0m \u001b[0mread\u001b[0m\u001b[0;34m(\u001b[0m\u001b[0muri\u001b[0m\u001b[0;34m,\u001b[0m \u001b[0mformat\u001b[0m\u001b[0;34m,\u001b[0m \u001b[0;34m\"I\"\u001b[0m\u001b[0;34m,\u001b[0m \u001b[0;34m**\u001b[0m\u001b[0mkwargs\u001b[0m\u001b[0;34m)\u001b[0m\u001b[0;34m\u001b[0m\u001b[0;34m\u001b[0m\u001b[0m\n\u001b[0m\u001b[1;32m    355\u001b[0m     \u001b[0mnbyte_limit\u001b[0m \u001b[0;34m=\u001b[0m \u001b[0mto_nbytes\u001b[0m\u001b[0;34m(\u001b[0m\u001b[0mmemtest\u001b[0m\u001b[0;34m,\u001b[0m \u001b[0mMEMTEST_DEFAULT_MIM\u001b[0m\u001b[0;34m)\u001b[0m\u001b[0;34m\u001b[0m\u001b[0;34m\u001b[0m\u001b[0m\n\u001b[1;32m    356\u001b[0m \u001b[0;34m\u001b[0m\u001b[0m\n",
            "\u001b[0;32m/usr/local/lib/python3.8/dist-packages/imageio/core/functions.py\u001b[0m in \u001b[0;36mget_reader\u001b[0;34m(uri, format, mode, **kwargs)\u001b[0m\n\u001b[1;32m    170\u001b[0m \u001b[0;34m\u001b[0m\u001b[0m\n\u001b[1;32m    171\u001b[0m     \u001b[0;31m# Create request object\u001b[0m\u001b[0;34m\u001b[0m\u001b[0;34m\u001b[0m\u001b[0;34m\u001b[0m\u001b[0m\n\u001b[0;32m--> 172\u001b[0;31m     \u001b[0mrequest\u001b[0m \u001b[0;34m=\u001b[0m \u001b[0mRequest\u001b[0m\u001b[0;34m(\u001b[0m\u001b[0muri\u001b[0m\u001b[0;34m,\u001b[0m \u001b[0;34m\"r\"\u001b[0m \u001b[0;34m+\u001b[0m \u001b[0mmode\u001b[0m\u001b[0;34m,\u001b[0m \u001b[0;34m**\u001b[0m\u001b[0mkwargs\u001b[0m\u001b[0;34m)\u001b[0m\u001b[0;34m\u001b[0m\u001b[0;34m\u001b[0m\u001b[0m\n\u001b[0m\u001b[1;32m    173\u001b[0m \u001b[0;34m\u001b[0m\u001b[0m\n\u001b[1;32m    174\u001b[0m     \u001b[0;31m# Get format\u001b[0m\u001b[0;34m\u001b[0m\u001b[0;34m\u001b[0m\u001b[0;34m\u001b[0m\u001b[0m\n",
            "\u001b[0;32m/usr/local/lib/python3.8/dist-packages/imageio/core/request.py\u001b[0m in \u001b[0;36m__init__\u001b[0;34m(self, uri, mode, **kwargs)\u001b[0m\n\u001b[1;32m    122\u001b[0m \u001b[0;34m\u001b[0m\u001b[0m\n\u001b[1;32m    123\u001b[0m         \u001b[0;31m# Parse what was given\u001b[0m\u001b[0;34m\u001b[0m\u001b[0;34m\u001b[0m\u001b[0;34m\u001b[0m\u001b[0m\n\u001b[0;32m--> 124\u001b[0;31m         \u001b[0mself\u001b[0m\u001b[0;34m.\u001b[0m\u001b[0m_parse_uri\u001b[0m\u001b[0;34m(\u001b[0m\u001b[0muri\u001b[0m\u001b[0;34m)\u001b[0m\u001b[0;34m\u001b[0m\u001b[0;34m\u001b[0m\u001b[0m\n\u001b[0m\u001b[1;32m    125\u001b[0m \u001b[0;34m\u001b[0m\u001b[0m\n\u001b[1;32m    126\u001b[0m         \u001b[0;31m# Set extension\u001b[0m\u001b[0;34m\u001b[0m\u001b[0;34m\u001b[0m\u001b[0;34m\u001b[0m\u001b[0m\n",
            "\u001b[0;32m/usr/local/lib/python3.8/dist-packages/imageio/core/request.py\u001b[0m in \u001b[0;36m_parse_uri\u001b[0;34m(self, uri)\u001b[0m\n\u001b[1;32m    258\u001b[0m                 \u001b[0;31m# Reading: check that the file exists (but is allowed a dir)\u001b[0m\u001b[0;34m\u001b[0m\u001b[0;34m\u001b[0m\u001b[0;34m\u001b[0m\u001b[0m\n\u001b[1;32m    259\u001b[0m                 \u001b[0;32mif\u001b[0m \u001b[0;32mnot\u001b[0m \u001b[0mos\u001b[0m\u001b[0;34m.\u001b[0m\u001b[0mpath\u001b[0m\u001b[0;34m.\u001b[0m\u001b[0mexists\u001b[0m\u001b[0;34m(\u001b[0m\u001b[0mfn\u001b[0m\u001b[0;34m)\u001b[0m\u001b[0;34m:\u001b[0m\u001b[0;34m\u001b[0m\u001b[0;34m\u001b[0m\u001b[0m\n\u001b[0;32m--> 260\u001b[0;31m                     \u001b[0;32mraise\u001b[0m \u001b[0mFileNotFoundError\u001b[0m\u001b[0;34m(\u001b[0m\u001b[0;34m\"No such file: '%s'\"\u001b[0m \u001b[0;34m%\u001b[0m \u001b[0mfn\u001b[0m\u001b[0;34m)\u001b[0m\u001b[0;34m\u001b[0m\u001b[0;34m\u001b[0m\u001b[0m\n\u001b[0m\u001b[1;32m    261\u001b[0m             \u001b[0;32melse\u001b[0m\u001b[0;34m:\u001b[0m\u001b[0;34m\u001b[0m\u001b[0;34m\u001b[0m\u001b[0m\n\u001b[1;32m    262\u001b[0m                 \u001b[0;31m# Writing: check that the directory to write to does exist\u001b[0m\u001b[0;34m\u001b[0m\u001b[0;34m\u001b[0m\u001b[0;34m\u001b[0m\u001b[0m\n",
            "\u001b[0;31mFileNotFoundError\u001b[0m: No such file: '/content/output.mp4'"
          ]
        }
      ]
    },
    {
      "cell_type": "code",
      "source": [
        "from moviepy.editor import VideoFileClip\n",
        "\n",
        "videoclip = VideoFileClip(\"video.mp4\")\n",
        "new_clip = videoclip.without_audio()\n",
        "new_clip.write_videofile(\"final_cut.mp4\")"
      ],
      "metadata": {
        "id": "A5YDKxs2aoBC",
        "outputId": "178c4813-92ec-480f-899f-0c098b017443",
        "colab": {
          "base_uri": "https://localhost:8080/",
          "height": 380
        }
      },
      "execution_count": 1,
      "outputs": [
        {
          "output_type": "error",
          "ename": "RuntimeError",
          "evalue": "ignored",
          "traceback": [
            "\u001b[0;31m---------------------------------------------------------------------------\u001b[0m",
            "\u001b[0;31mRuntimeError\u001b[0m                              Traceback (most recent call last)",
            "\u001b[0;32m<ipython-input-1-7da12fea76aa>\u001b[0m in \u001b[0;36m<module>\u001b[0;34m\u001b[0m\n\u001b[0;32m----> 1\u001b[0;31m \u001b[0;32mfrom\u001b[0m \u001b[0mmoviepy\u001b[0m\u001b[0;34m.\u001b[0m\u001b[0meditor\u001b[0m \u001b[0;32mimport\u001b[0m \u001b[0mVideoFileClip\u001b[0m\u001b[0;34m\u001b[0m\u001b[0;34m\u001b[0m\u001b[0m\n\u001b[0m\u001b[1;32m      2\u001b[0m \u001b[0;34m\u001b[0m\u001b[0m\n\u001b[1;32m      3\u001b[0m \u001b[0mvideoclip\u001b[0m \u001b[0;34m=\u001b[0m \u001b[0mVideoFileClip\u001b[0m\u001b[0;34m(\u001b[0m\u001b[0;34m\"video.mp4\"\u001b[0m\u001b[0;34m)\u001b[0m\u001b[0;34m\u001b[0m\u001b[0;34m\u001b[0m\u001b[0m\n\u001b[1;32m      4\u001b[0m \u001b[0mnew_clip\u001b[0m \u001b[0;34m=\u001b[0m \u001b[0mvideoclip\u001b[0m\u001b[0;34m.\u001b[0m\u001b[0mwithout_audio\u001b[0m\u001b[0;34m(\u001b[0m\u001b[0;34m)\u001b[0m\u001b[0;34m\u001b[0m\u001b[0;34m\u001b[0m\u001b[0m\n\u001b[1;32m      5\u001b[0m \u001b[0mnew_clip\u001b[0m\u001b[0;34m.\u001b[0m\u001b[0mwrite_videofile\u001b[0m\u001b[0;34m(\u001b[0m\u001b[0;34m\"final_cut.mp4\"\u001b[0m\u001b[0;34m)\u001b[0m\u001b[0;34m\u001b[0m\u001b[0;34m\u001b[0m\u001b[0m\n",
            "\u001b[0;32m/usr/local/lib/python3.8/dist-packages/moviepy/editor.py\u001b[0m in \u001b[0;36m<module>\u001b[0;34m\u001b[0m\n\u001b[1;32m     24\u001b[0m \u001b[0;31m# Checks to see if the user has set a place for their own version of ffmpeg\u001b[0m\u001b[0;34m\u001b[0m\u001b[0;34m\u001b[0m\u001b[0;34m\u001b[0m\u001b[0m\n\u001b[1;32m     25\u001b[0m \u001b[0;32mif\u001b[0m \u001b[0mos\u001b[0m\u001b[0;34m.\u001b[0m\u001b[0mgetenv\u001b[0m\u001b[0;34m(\u001b[0m\u001b[0;34m'FFMPEG_BINARY'\u001b[0m\u001b[0;34m,\u001b[0m \u001b[0;34m'ffmpeg-imageio'\u001b[0m\u001b[0;34m)\u001b[0m \u001b[0;34m==\u001b[0m \u001b[0;34m'ffmpeg-imageio'\u001b[0m\u001b[0;34m:\u001b[0m\u001b[0;34m\u001b[0m\u001b[0;34m\u001b[0m\u001b[0m\n\u001b[0;32m---> 26\u001b[0;31m     \u001b[0mimageio\u001b[0m\u001b[0;34m.\u001b[0m\u001b[0mplugins\u001b[0m\u001b[0;34m.\u001b[0m\u001b[0mffmpeg\u001b[0m\u001b[0;34m.\u001b[0m\u001b[0mdownload\u001b[0m\u001b[0;34m(\u001b[0m\u001b[0;34m)\u001b[0m\u001b[0;34m\u001b[0m\u001b[0;34m\u001b[0m\u001b[0m\n\u001b[0m\u001b[1;32m     27\u001b[0m \u001b[0;34m\u001b[0m\u001b[0m\n\u001b[1;32m     28\u001b[0m \u001b[0;31m# Clips\u001b[0m\u001b[0;34m\u001b[0m\u001b[0;34m\u001b[0m\u001b[0;34m\u001b[0m\u001b[0m\n",
            "\u001b[0;32m/usr/local/lib/python3.8/dist-packages/imageio/plugins/ffmpeg.py\u001b[0m in \u001b[0;36mdownload\u001b[0;34m(directory, force_download)\u001b[0m\n\u001b[1;32m     35\u001b[0m \u001b[0;34m\u001b[0m\u001b[0m\n\u001b[1;32m     36\u001b[0m \u001b[0;32mdef\u001b[0m \u001b[0mdownload\u001b[0m\u001b[0;34m(\u001b[0m\u001b[0mdirectory\u001b[0m\u001b[0;34m=\u001b[0m\u001b[0;32mNone\u001b[0m\u001b[0;34m,\u001b[0m \u001b[0mforce_download\u001b[0m\u001b[0;34m=\u001b[0m\u001b[0;32mFalse\u001b[0m\u001b[0;34m)\u001b[0m\u001b[0;34m:\u001b[0m  \u001b[0;31m# pragma: no cover\u001b[0m\u001b[0;34m\u001b[0m\u001b[0;34m\u001b[0m\u001b[0m\n\u001b[0;32m---> 37\u001b[0;31m     raise RuntimeError(\n\u001b[0m\u001b[1;32m     38\u001b[0m         \u001b[0;34m\"imageio.ffmpeg.download() has been deprecated. \"\u001b[0m\u001b[0;34m\u001b[0m\u001b[0;34m\u001b[0m\u001b[0m\n\u001b[1;32m     39\u001b[0m         \u001b[0;34m\"Use 'pip install imageio-ffmpeg' instead.'\"\u001b[0m\u001b[0;34m\u001b[0m\u001b[0;34m\u001b[0m\u001b[0m\n",
            "\u001b[0;31mRuntimeError\u001b[0m: imageio.ffmpeg.download() has been deprecated. Use 'pip install imageio-ffmpeg' instead.'"
          ]
        }
      ]
    }
  ],
  "metadata": {
    "colab": {
      "name": "vc_seminar01_support.ipynb",
      "provenance": []
    },
    "kernelspec": {
      "display_name": "Python 3 (ipykernel)",
      "language": "python",
      "name": "python3"
    },
    "language_info": {
      "codemirror_mode": {
        "name": "ipython",
        "version": 3
      },
      "file_extension": ".py",
      "mimetype": "text/x-python",
      "name": "python",
      "nbconvert_exporter": "python",
      "pygments_lexer": "ipython3",
      "version": "3.8.13"
    },
    "toc": {
      "base_numbering": 1,
      "nav_menu": {},
      "number_sections": true,
      "sideBar": true,
      "skip_h1_title": false,
      "title_cell": "Table of Contents",
      "title_sidebar": "Contents",
      "toc_cell": false,
      "toc_position": {},
      "toc_section_display": true,
      "toc_window_display": false
    }
  },
  "nbformat": 4,
  "nbformat_minor": 0
}